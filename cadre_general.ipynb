{
 "cells": [
  {
   "cell_type": "code",
   "execution_count": 1,
   "id": "dcb75ffb",
   "metadata": {},
   "outputs": [],
   "source": [
    "import numpy as np\n",
    "from numpy import random\n",
    "import matplotlib.pyplot as plt\n",
    "import imageio\n",
    "from ast import literal_eval\n",
    "import os\n",
    "\n",
    "import tensorflow as tf\n",
    "from tensorflow.keras.models import Sequential\n",
    "from tensorflow.keras.layers import InputLayer,Dense,Flatten\n",
    "from tensorflow.keras.optimizers import Adam\n",
    "from IPython.display import Image\n",
    "from ringbell import RingBell\n",
    "a = RingBell(\n",
    "    sample = \"ding-47489.mp3\",\n",
    "    minimum_execution_time = 0,\n",
    "    verbose = True\n",
    ")"
   ]
  },
  {
   "cell_type": "code",
   "execution_count": 2,
   "id": "4a7640ae",
   "metadata": {},
   "outputs": [],
   "source": [
    "# -*- coding: utf-8 -*-\n",
    "\n",
    "\n",
    "class Position:  #Correspond à une case du labyrinthe\n",
    "\n",
    "    def __init__(self, north, east, south, west):\n",
    "        self.north = north\n",
    "        self.east = east\n",
    "        self.south = south\n",
    "        self.west = west\n",
    "        self.walls = [north, east, south, west]\n",
    "        self.exit = False\n",
    "        self.player = False\n",
    "\n",
    "    def get_walls(self):\n",
    "        return self.walls\n",
    "\n",
    "    def set_walls(self, new_walls):\n",
    "        self.walls = new_walls\n",
    "\n",
    "    def actualize_walls(self):\n",
    "        self.set_walls([self.north, self.east, self.south, self.west])\n",
    "\n",
    "    def set_north(self, north):\n",
    "        self.north = north\n",
    "        self.actualize_walls()\n",
    "\n",
    "    def set_east(self, east):\n",
    "        self.east = east\n",
    "        self.actualize_walls()\n",
    "\n",
    "    def set_south(self, south):\n",
    "        self.south = south\n",
    "        self.actualize_walls()\n",
    "\n",
    "    def set_west(self, west):\n",
    "        self.west = west\n",
    "        self.actualize_walls()\n",
    "\n",
    "    def place_player(self):\n",
    "        self.player = True\n",
    "\n",
    "    def remove_player(self):\n",
    "        self.player = False\n",
    "\n",
    "    def set_exit(self):\n",
    "        self.exit = True\n",
    "\n",
    "    def remove_exit(self):\n",
    "        self.exit = False\n",
    "\n",
    "\n",
    "class Maze:\n",
    "\n",
    "    def __init__(self, size=10):\n",
    "        if size < 3:\n",
    "            print(\"taille trop petite\")\n",
    "            raise ValueError\n",
    "        else:\n",
    "            self.size = size\n",
    "            self.all_positions = [[Position(j == size-1,\n",
    "                                            i == size - 1,\n",
    "                                            j == 0,\n",
    "                                            i == 0)\n",
    "                                   for i in range(size)] for j in range(size)]\n",
    "            self.exit = random_pos(size)\n",
    "            self.player = random_pos(size)\n",
    "\n",
    "    def randomize(self):  #randomise la position de la sortie et du joueur\n",
    "        self.remove_exit()\n",
    "        self.remove_player()\n",
    "        x = int(random.random()*self.size)\n",
    "        y = int(random.random()*self.size)\n",
    "        self.set_exit(x, y)\n",
    "        xj = x\n",
    "        yj = y\n",
    "        while xj == x and yj == y:\n",
    "            xj = int(random.random()*self.size)\n",
    "            yj = int(random.random()*self.size)\n",
    "        self.place_player(xj, yj)\n",
    "        \n",
    "        for i in range(self.size):\n",
    "            for j in range(self.size):\n",
    "                if i != self.size -1:\n",
    "                    self.changeWall(i, j, 2, int(random.random()*2))\n",
    "                if j != self.size - 1:\n",
    "                    self.changeWall(i, j, 1, int(random.random()*2))\n",
    "\n",
    "    def get_position(self, i, j):\n",
    "        return self.all_positions[self.size -1 -i][j]\n",
    "\n",
    "    def __str__(self):\n",
    "        maze_str = \" \"\n",
    "        # first line\n",
    "        for i in range(self.size):\n",
    "            maze_str += \"__\"\n",
    "        maze_str += \"\\n\"\n",
    "        for i in range(self.size):\n",
    "            for j in range(self.size):\n",
    "                position = self.get_position(i, j)\n",
    "                walls = position.get_walls()\n",
    "                if walls[3]:\n",
    "                    maze_str += \"|\"\n",
    "                    if walls[2]:\n",
    "                        if position.exit:\n",
    "                            maze_str += \"+\"\n",
    "                        elif position.player:\n",
    "                            maze_str += \"·\"\n",
    "                        else:\n",
    "                            maze_str += \"_\"\n",
    "                    else:\n",
    "                        if position.exit:\n",
    "                            maze_str += \"+\"\n",
    "                        elif position.player:\n",
    "                            maze_str += \"·\"\n",
    "                        else:\n",
    "                            maze_str += \" \"\n",
    "                elif walls[2]:\n",
    "                    if position.exit:\n",
    "                        maze_str += \"+\"\n",
    "                    elif position.player:\n",
    "                        maze_str += \"·\"\n",
    "                    else:\n",
    "                        maze_str += \"__\"\n",
    "                else:\n",
    "                    if position.exit:\n",
    "                        maze_str += \" \"\n",
    "                        maze_str += \"+\"\n",
    "                    elif position.player:\n",
    "                        maze_str += \" \"\n",
    "                        maze_str += \"·\"\n",
    "                    else:\n",
    "                        maze_str += \"  \"\n",
    "                if j == self.size - 1:\n",
    "                    if i == self.size - 1:\n",
    "                        maze_str += \"|\\n\"\n",
    "                    else:\n",
    "                        maze_str += \"|\\n\"\n",
    "        return maze_str\n",
    "\n",
    "    def plot(self,title = \"\", filename = None,agent = None):\n",
    "        \n",
    "        n = self.size\n",
    "        plt.figure(figsize = (4, 4))\n",
    "        plt.title(title)\n",
    "        plt.axis('off')\n",
    "        plt.plot([0,0,n,n,0],[0,n,n,0,0],color = 'black',linewidth=7.0)\n",
    "      \n",
    "\n",
    "        for i in range(self.size):\n",
    "            plt.plot([i,i],[0,n],color = 'black',alpha = 0.2)\n",
    "            plt.plot([0,n],[i,i],color = 'black',alpha = 0.2)\n",
    "\n",
    "        for i in range(n):\n",
    "            for j in range(n):\n",
    "                if self.get_position(j, i).east:\n",
    "                    plt.plot([i+1,i+1],[self.size-j,self.size-j-1],linewidth=7.0,color = 'black')\n",
    "                if self.get_position(j, i).south:\n",
    "                    plt.plot([i,i+1],[self.size-j-1,self.size-j-1],linewidth=7.0,color = 'black')\n",
    "        \n",
    "        try:\n",
    "            (i,j) = self.player\n",
    "            (i_e,j_e) = self.exit\n",
    "            if j!=j_e or i!= i_e:\n",
    "                j += 0.5\n",
    "                i += 0.5\n",
    "                plt.scatter(i,j,linewidths = 5,color = 'red')\n",
    "\n",
    "                (i,j) = self.exit\n",
    "                j += 0.5\n",
    "                i += 0.5\n",
    "                plt.scatter(i,j,linewidths = 10,color = 'green',marker = '+')\n",
    "            else:\n",
    "                j += 0.5\n",
    "                i += 0.5\n",
    "                plt.scatter(i,j,linewidths = 5,color = 'yellow')\n",
    "                plt.scatter(i,sj,linewidths = 10,color = 'yellow',marker = '+')\n",
    "        except:\n",
    "            pass\n",
    "        \n",
    "        \n",
    "        if agent is not None:   #Cette partie permet d'afficher la politique moyenne de l'agent passé en argument\n",
    "            directions = [np.array((-1,0)),np.array((0,1)),np.array((1,0)),np.array((0,-1))]\n",
    "\n",
    "            for i in range(n):\n",
    "                for j in range(n):\n",
    "                    probas = np.array(agent(np.array([[i,j]]))[1])[0]\n",
    "                    direc_moy = np.zeros(2)\n",
    "                    for a in range(4):\n",
    "                        direc_moy += directions[a]*probas[a]/2\n",
    "                    plt.arrow(x = i+0.5-direc_moy[0]/2,y=j+0.5-direc_moy[1],dx  = direc_moy[0],dy = direc_moy[1],color = 'black',width = 0.05)\n",
    "        \n",
    "        \n",
    "        if filename is not None: #Sauvegarde eventuelle de l'image\n",
    "            plt.savefig(filename)\n",
    "        else:\n",
    "            plt.show()\n",
    "        plt.close()\n",
    "\n",
    "\n",
    "\n",
    "    def changeWall(self, i, j, wallNumber, wallValue):\n",
    "        position = self.get_position(i, j)\n",
    "        if wallNumber == 0:\n",
    "            position.set_north(wallValue)\n",
    "            if i != 0:\n",
    "                self.get_position(i - 1, j).set_south(wallValue)\n",
    "        elif wallNumber == 1:\n",
    "            position.set_east(wallValue)\n",
    "            if j != self.size - 1:\n",
    "                self.get_position(i, j + 1).set_west(wallValue)\n",
    "        elif wallNumber == 2:\n",
    "            position.set_south(wallValue)\n",
    "            if i != self.size - 1:\n",
    "                self.get_position(i + 1, j).set_north(wallValue)\n",
    "        elif wallNumber == 3:\n",
    "            position.set_west(wallValue)\n",
    "            if j != 0:\n",
    "                self.get_position(i, j - 1).set_east(wallValue)\n",
    "\n",
    "    def set_exit(self, i, j):\n",
    "        if self.exit is None:\n",
    "            self.get_position(i, j).set_exit()\n",
    "            self.exit = (i, j)\n",
    "\n",
    "    def remove_exit(self):\n",
    "        if self.exit is not None:\n",
    "            self.get_position(*self.exit).remove_exit()\n",
    "            self.exit = None\n",
    "\n",
    "    def place_player(self, i, j):\n",
    "        if self.player is None:\n",
    "            self.get_position(i, j).place_player()\n",
    "            self.player = (i, j)\n",
    "\n",
    "    def remove_player(self):\n",
    "        if self.player is not None:\n",
    "            self.get_position(*self.player).remove_player()\n",
    "            self.player = None\n",
    "\n",
    "    def move_player(self, new_i = -1, new_j = -1, direction = (0,0), force = False):  #Fait bouger de force le joueur en (new_i,new_j) ou tente de le bouger selon les règles du labyrinthe, dans la direction donnée\n",
    "        if force:\n",
    "            self.remove_player()\n",
    "            self.place_player(new_i, new_j)\n",
    "            self.positions_explored = []\n",
    "            return True\n",
    "        else:\n",
    "            (i,j) = self.player\n",
    "            new_i = i + direction[0]\n",
    "            new_j = j  + direction[1]\n",
    "            \n",
    "            flag = False\n",
    "          \n",
    "            walls = self.get_position(self.size -1 -j,i).get_walls()\n",
    "            if new_i == i + 1:\n",
    "                if not walls[1]:\n",
    "                    flag = True\n",
    "            elif new_i == i - 1:\n",
    "                if not walls[3]:\n",
    "                    flag = True\n",
    "            elif new_j == j + 1:\n",
    "                if not walls[0]:\n",
    "                    flag = True\n",
    "            elif new_j == j - 1:\n",
    "                if not walls[2]:\n",
    "                    flag = True\n",
    "            if flag:   #si le mouvement est possible\n",
    "                self.remove_player()\n",
    "                self.place_player(new_i, new_j)\n",
    "                return True\n",
    "            else:\n",
    "                return False\n",
    "\n",
    "            \n",
    "def random_pos(n): #Position aléatoire dans le labyrinth\n",
    "    return (random.randint(n),random.randint(n))\n",
    "\n",
    "\n",
    "class Environment:\n",
    "\n",
    "    def __init__(self, maze):\n",
    "        self.maze = maze\n",
    "        self.step_count = 0  #Nombre de mouvements du joueur initialisé à 0\n",
    "        self.directions = [(-1,0),(0,1),(1,0),(0,-1)]\n",
    "\n",
    "    def reset(self):\n",
    "        self.step_count = 0\n",
    "        self.maze.player = random_pos(self.maze.size)\n",
    "        while self.maze.player == self.maze.exit:\n",
    "            self.maze.player = random_pos(self.maze.size)\n",
    "    \n",
    "    def get_state(self):\n",
    "        pos = self.maze.player\n",
    "        return(np.array(pos).reshape(1,2))\n",
    "        \n",
    "    def step(self,action,rewarder,max_step):  \n",
    "        \n",
    "        self.step_count +=1\n",
    "        self.maze.move_player(direction = self.directions[action]) #Tentative de déplacement selon l'action \n",
    "        \n",
    "        state = self.get_state()\n",
    "        reward = float(rewarder(state))  #Récompense fournie par la fonction de récompense\n",
    "\n",
    "        if (self.maze.player == self.maze.exit): #le joueur atteint la sortie\n",
    "            \n",
    "            self.reset()\n",
    "            playing = False\n",
    "            return reward,playing,state\n",
    "        \n",
    "        if self.step_count >=max_step: #maximum de max_step déplacements pour arriver à la sortie\n",
    "\n",
    "            self.reset()\n",
    "            playing = False\n",
    "            return reward,playing,state  #Rajout d'une grosse pénalité, pour favoriser le fait\n",
    "        \n",
    "        playing = True\n",
    "        return reward,playing,state\n",
    "\n",
    "    \n",
    "def random_maze(n = 10):   #Création d'un labyrinthe aléatoire, par suppresion succesives de murs jusqu'à ce que toutes les cases soient connectées\n",
    "    maze = Maze(size = n)\n",
    "    \n",
    "    for i in range(n):\n",
    "        for j in range(n):\n",
    "            for a in range(4):\n",
    "                maze.changeWall(i,j,a,1)\n",
    "\n",
    "\n",
    "\n",
    "    deplacements = [(-1,0),(0,1),(1,0),(0,-1)]\n",
    "    A = [[i+n*j for i in range(n)] for j in range(n)]  #Classe d'équivalence entre les cellules: 2 cellules ayant la même classe possedent un chemin allant de l'une a l'autre\n",
    "    for i in range(n**2-1):  #n*n -1 murs a briser pour tout relier\n",
    "        (x,y) = (random.randint(0,n),random.randint(0,n)) #selection d'une cellule aleatoire\n",
    "        a = random.randint(0,4) #mur a ouvrir\n",
    "        x2 = x + deplacements[a][0]\n",
    "        y2 = y + deplacements[a][1]\n",
    "        while not(0<=x2<=n-1 and 0 <= y2 <= n-1 and A[x][y] != A[x2][y2] ):   #Recheche de deux cellules adjacentes non reliées par un chemin\n",
    "            (x,y) = (random.randint(0,n), random.randint(0,n)) #selection d'une cellule aleatoire\n",
    "            a = random.randint(0,4) #mur a ouvrir\n",
    "            x2 = x + deplacements[a][0]\n",
    "            y2 = y + deplacements[a][1]        \n",
    "        maze.changeWall(x,y,a,0)\n",
    "        \n",
    "        #Mise à jour de la classe d'équivalence\n",
    "        id_a_changer = A[x2][y2]\n",
    "        id_remplacement = A[x][y]\n",
    "        for k in range(n):\n",
    "            for l in range(n):\n",
    "                if A[k][l] == id_a_changer:\n",
    "                    A[k][l] = id_remplacement\n",
    "    \n",
    "    #Sortie et joueur à une position aléatoire\n",
    "    x = random.randint(n)\n",
    "    y = random.randint(n)\n",
    "    maze.set_exit(x, y)\n",
    "    xj = x\n",
    "    yj = y\n",
    "    while xj == x and yj == y:\n",
    "        xj = random.randint(n)\n",
    "        yj = random.randint(n)\n",
    "    maze.place_player(xj, yj)\n",
    "    \n",
    "    return maze"
   ]
  },
  {
   "cell_type": "code",
   "execution_count": 3,
   "id": "1f9e7e41",
   "metadata": {},
   "outputs": [],
   "source": [
    "def make_gif(maze,lst_pos,lst_actions = None,path = \"mygif\"):  #Création de gif de la trajectoire specifiée par les pos et actions\n",
    "    n = len(lst_pos)\n",
    "    filenames = []\n",
    "    for i in range(n):\n",
    "        maze.remove_player()\n",
    "        maze.place_player(lst_pos[i][0,0],lst_pos[i][0,1])\n",
    "        filename = f'GIF//{i}.png'\n",
    "        if lst_actions is None:\n",
    "            maze.plot(filename = filename)\n",
    "        else:\n",
    "            maze.plot(filename = filename,title = \"Prochain déplacement : {}\".format([\"◄\",\"▲\",\"►\",\"▼\"][lst_actions[i]]))\n",
    "        filenames.append(filename)\n",
    "\n",
    "    maze.remove_player()\n",
    "    maze.remove_player()\n",
    "    filename = f'GIF//{i+1}.png'\n",
    "    maze.plot(filename = filename)\n",
    "    filenames.append(filename)\n",
    "    \n",
    "    #Enregistrement du gif à l'emplacement voulu\n",
    "    with imageio.get_writer('{}.gif'.format(path), mode='I',duration = 1) as writer:\n",
    "        for filename in filenames:\n",
    "            image = imageio.imread(filename)\n",
    "            writer.append_data(image)"
   ]
  },
  {
   "cell_type": "code",
   "execution_count": 4,
   "id": "2a2c241c",
   "metadata": {},
   "outputs": [],
   "source": [
    "class Agent(tf.keras.Model):\n",
    "    def __init__(self,n_hidden):\n",
    "        super().__init__()\n",
    "        self.shared_1 = Dense(n_hidden,activation = 'relu')\n",
    "        self.actor = Dense(4)\n",
    "        \n",
    "        \n",
    "    def call(self,obs):\n",
    "        x = self.shared_1(obs)\n",
    "        possible_actions =  self.actor(x)\n",
    "    \n",
    "        proba_actions = tf.nn.softmax(possible_actions)  #la probabilité de choisir l'action i est proba_actions[i]\n",
    "        action_chosed = np.random.choice([0,1,2,3],p = np.array(proba_actions).reshape(4))\n",
    "        return(action_chosed,proba_actions)       \n",
    "\n",
    "        \n",
    "        \n",
    "\n",
    "class Rewarder(tf.keras.Model):\n",
    "    def __init__(self,n_hidden,n,mean,sd):\n",
    "        super().__init__()\n",
    "        self.shared_1 = Dense(n_hidden,activation = 'relu')\n",
    "        self.reward = Dense(1)\n",
    "        self.sd_visee = sd\n",
    "        self.mean_visee = mean\n",
    "        \n",
    "        self.sd_actuelle = 1\n",
    "        self.mean_actuelle = 0\n",
    "    \n",
    "        self.update(n)\n",
    "    \n",
    "    def update(self,n):  #Permet de mettre à jour les paramètres pour normaliser la sortie du rewarder\n",
    "        A = np.array([[self.call(np.array([[i,j]]),normalize = False) for i in range(n)] for j in range(n)]).reshape(n**2)\n",
    "        self.mean_actuelle = np.mean(A)\n",
    "        self.sd_actuelle = np.std(A)\n",
    "        \n",
    "    def call(self,obs,normalize = True):\n",
    "        if not normalize:\n",
    "            x = self.shared_1(obs)\n",
    "            return self.reward(x)\n",
    "        else:\n",
    "            x = self.shared_1(obs)\n",
    "            return (self.reward(x)-self.mean_actuelle)* self.sd_visee/self.sd_actuelle + self.mean_visee\n",
    "    \n",
    "    def plot(self,n):   #Visualisation de la recompense selon les cases\n",
    "        plt.imshow([[float(rewarder(np.array([[i,n-1-j]])))for i in range(n)]for j in range(n)])\n",
    "        plt.colorbar()\n",
    "        plt.show()"
   ]
  },
  {
   "cell_type": "code",
   "execution_count": 5,
   "id": "cd5d0ee3",
   "metadata": {},
   "outputs": [],
   "source": [
    "def discounted_reward(reward_lst,gamma): #Calcule la récompense discounté par un facteur gamma, plus une action est loin, moins la récompense associée compte\n",
    "    lst_total_reward = []\n",
    "    total_reward = 0\n",
    "    for r in reward_lst[::-1]:\n",
    "        total_reward *= gamma\n",
    "        total_reward += r\n",
    "        lst_total_reward.append(total_reward)\n",
    "    return np.array(lst_total_reward[::-1])\n",
    "\n",
    "def agent_loss(action_probs,rewards):\n",
    "    d_reward = discounted_reward(rewards,gamma = 0.9)\n",
    "    action_log_probs = tf.math.log(action_probs)\n",
    "    loss = - tf.math.reduce_sum(action_log_probs*d_reward)\n",
    "    return loss\n",
    "\n",
    "def one_trajectory(env,agent,rewarder,max_step = 5):  #effectue une trajectoire complète \n",
    "    env.reset()\n",
    "    \n",
    "    lst_states = []  #Etats parcourus\n",
    "    lst_actions = []  #Actions effectuées\n",
    "    lst_prob_selection = []  #Probabilités d'avoir effectué l'action\n",
    "    lst_rewards = []  #Récompenses obtenues\n",
    "    playing = True  #On joue jusqu'à atteindre la sortie ou à arriver à cours de mouvements\n",
    "    \n",
    "    state = env.get_state()\n",
    "    lst_states.append(state)\n",
    "    while playing:\n",
    "        \n",
    "        action,prob = agent(state)  #Récupération d'une action et de sa probabilité par application de la politique de l'agent\n",
    "        reward,playing,state = env.step(action,rewarder,max_step)  #On fait jouer l'action determinée\n",
    "        \n",
    "        lst_states.append(state)\n",
    "        lst_actions.append(action)\n",
    "        lst_rewards.append(reward)\n",
    "\n",
    "        lst_prob_selection.append(prob[0][action])\n",
    "    \n",
    "    return lst_states,lst_actions,lst_rewards,lst_prob_selection\n"
   ]
  },
  {
   "cell_type": "code",
   "execution_count": 6,
   "id": "4b96e043",
   "metadata": {},
   "outputs": [],
   "source": [
    "def update_policy(env,agent,rewarder,n_etapes,max_step,plot = False):\n",
    "    \n",
    "    scores = []\n",
    "    lst_grads = []\n",
    "\n",
    "    for etape in range(n_etapes):\n",
    "        \n",
    "        \n",
    "        with tf.GradientTape() as tape:\n",
    "\n",
    "            lst_states,lst_actions,lst_rewards,lst_prob_selection  =  one_trajectory(env,agent,rewarder,max_step)\n",
    "            loss = agent_loss(lst_prob_selection, lst_rewards)\n",
    "        \n",
    "        grads = tape.gradient(loss, agent.trainable_variables)\n",
    "        scores.append(len(lst_rewards))\n",
    "        \n",
    "        \n",
    "        lst_grads.append(grads)           \n",
    "        \n",
    "        if etape % 50 == 0: # On optimise toutes les 50 trajectoires parcourues\n",
    "            grads_total = lst_grads[0]\n",
    "            for grads in lst_grads:\n",
    "                for (i,grad) in enumerate(grads):\n",
    "                    grads_total[i] += grads[i]\n",
    "            \n",
    "            optimizer.apply_gradients(zip(grads_total, agent.trainable_variables))\n",
    "            lst_grads = []\n",
    "            \n",
    "        if plot and etape % 100 == 0:  #1ffichage eventuel de la performance de l'agent sur les 100 dernières iterations\n",
    "            print(\"Episode  {}  Score  {}\".format(etape, np.mean(scores[-100:])))\n",
    "\n",
    "    "
   ]
  },
  {
   "cell_type": "code",
   "execution_count": 7,
   "id": "6fc3fbe2",
   "metadata": {},
   "outputs": [],
   "source": [
    "class Trajectory:\n",
    "\n",
    "    def __init__(self, tab = []):\n",
    "        self.trajectory = tab\n",
    "\n",
    "\n",
    "class Preference:\n",
    "\n",
    "    def __init__(self, trajectory1, trajectory2, mu1, mu2):\n",
    "        self.trajectory1 = trajectory1\n",
    "        self.trajectory2 = trajectory2\n",
    "        self.mu1 = mu1\n",
    "        self.mu2 = mu2\n",
    "\n",
    "    def compute_probability(self, function):\n",
    "        r1 = sum([function(k) for k in self.trajectory1.trajectory[1:]])\n",
    "        r2 = sum([function(k) for k in self.trajectory2.trajectory[1:]])\n",
    "        return (tf.exp(r1))/(tf.exp(r1) + tf.exp(r2))\n",
    "\n",
    "    def compute_loss(self, function):\n",
    "\n",
    "        proba = self.compute_probability(function)\n",
    "        return - self.mu1*tf.math.log(proba) - self.mu2*tf.math.log(1-proba)\n",
    "\n"
   ]
  },
  {
   "cell_type": "code",
   "execution_count": 8,
   "id": "bd4b9ec1",
   "metadata": {},
   "outputs": [],
   "source": [
    "def make_comparisons(env,agent,rewarder,n_comparisons,max_step):\n",
    "    Lst_prefs = []\n",
    "    for i in range(n_comparisons):\n",
    "        \n",
    "        #Simulation et enregistrement sous GIF de deux trajectoires\n",
    "        traj1 = one_trajectory(env,agent,rewarder,max_step)\n",
    "        traj2 = one_trajectory(env,agent,rewarder,max_step)\n",
    "\n",
    "        make_gif(maze,traj1[0][:-1],traj1[1],path = \"trajectoire 1\")\n",
    "        make_gif(maze,traj2[0][:-1],traj2[1],path = \"trajectoire 2\")\n",
    "\n",
    "        \n",
    "        #Demande à l'utilisateur son choix\n",
    "        print(\"first trajectory :\")\n",
    "        display(Image(data=open(\"trajectoire 1.gif\",'rb').read(), format='png'))\n",
    "        print(\"second trajectory :\")\n",
    "        display(Image(data=open(\"trajectoire 2.gif\",'rb').read(), format='png'))\n",
    "        print(\"which one do you prefer ? (1 or 2)\")\n",
    "        print(\"If you consider that both segments are equally preferable, type 3.\")\n",
    "        print(\"If you consider that the segments are not comparable, type 0.\")\n",
    "        \n",
    "        try:\n",
    "            choice = int(input(\"Please type 0, 1, 2 or 3 : \"))\n",
    "        except:\n",
    "            choice = 4\n",
    "        \n",
    "        if choice == 1:\n",
    "            new_pref = Preference(Trajectory(traj1[0]), Trajectory(traj2[0]), 1, 0)\n",
    "        elif choice == 2:\n",
    "            new_pref = Preference(Trajectory(traj1[0]), Trajectory(traj2[0]), 0, 1)\n",
    "        elif choice == 3:\n",
    "            new_pref = Preference(Trajectory(traj1[0]), Trajectory(traj2[0]), 1/2, 1/2)\n",
    "        else:\n",
    "            pass\n",
    "        \n",
    "        try:\n",
    "            Lst_prefs.append(new_pref)\n",
    "        except:\n",
    "            pass\n",
    "    return Lst_prefs"
   ]
  },
  {
   "cell_type": "code",
   "execution_count": 9,
   "id": "c04dfaf1",
   "metadata": {},
   "outputs": [],
   "source": [
    "def update_rewarder(rewarder,lst_prefs):\n",
    "    \n",
    "        \n",
    "    for pref in lst_prefs:\n",
    "        with tf.GradientTape() as tape:\n",
    "            loss = pref.compute_loss(rewarder)\n",
    "        grads = tape.gradient(loss, rewarder.trainable_variables)\n",
    "        optimizer_reward.apply_gradients(zip(grads, rewarder.trainable_variables))\n",
    "\n",
    "    rewarder.update(n)#Laisser la moyenne et variance voulue"
   ]
  },
  {
   "cell_type": "code",
   "execution_count": 10,
   "id": "c4138114",
   "metadata": {},
   "outputs": [],
   "source": [
    "def evalue_agent(maze,agent,max_step,n_repet): #Calcule le nombre d'étapes moyens pour atteindre la sortie\n",
    "    \n",
    "    res = 0\n",
    "    \n",
    "    for i in range(n_repet):\n",
    "        res += len(one_trajectory(env,agent,lambda s:0,max_step)[0])\n",
    "    \n",
    "    return res/n_repet"
   ]
  },
  {
   "cell_type": "code",
   "execution_count": 11,
   "id": "03535e6e",
   "metadata": {},
   "outputs": [],
   "source": [
    "n = 3\n",
    "\n",
    "maze = random_maze(n)\n",
    "#maze = Maze(size = n)\n",
    "maze.exit = (0,2)\n",
    "env = Environment(maze)\n"
   ]
  },
  {
   "cell_type": "code",
   "execution_count": 12,
   "id": "87228ff8",
   "metadata": {},
   "outputs": [
    {
     "data": {
      "image/png": "[encoded data removed]",
      "text/plain": [
       "<Figure size 288x288 with 1 Axes>"
      ]
     },
     "metadata": {
      "needs_background": "light"
     },
     "output_type": "display_data"
    }
   ],
   "source": [
    "maze.plot()\n"
   ]
  },
  {
   "cell_type": "code",
   "execution_count": 13,
   "id": "a2db9715",
   "metadata": {},
   "outputs": [],
   "source": [
    "agent = Agent(100)\n",
    "rewarder = Rewarder(100,n,mean = -2,sd = 2)\n",
    "\n",
    "#Pour comparer avec  le cas classique, sans appel à l'utilisateurn, on considère une fonction de récompense choisie à l'avance\n",
    "# et on utilise un autre agent\n",
    "agent2 = Agent(100)\n",
    "rewarder2 = lambda s :  -np.sum(np.abs(np.array(maze.exit) - s.reshape((2))))  - 2\n",
    "\n",
    "optimizer = tf.keras.optimizers.Adam(learning_rate = 0.002)\n",
    "optimizer_reward = tf.keras.optimizers.Adam(learning_rate = 0.002)"
   ]
  },
  {
   "cell_type": "code",
   "execution_count": 14,
   "id": "4cd3ebe2",
   "metadata": {},
   "outputs": [],
   "source": [
    "n_iters = 5 #Nombre d'itérations globale de la boucle (Optimisation politique/ Comparaison trajectoires/ Optimisation fonction de récompense)\n",
    "n_iters_policy = 1000 #Nombre d'itérations pour optimiser la politique, par tour\n",
    "n_comparisons = 5 #Nombre de couples à comparer par tour\n",
    "\n",
    "max_step_policy = 6*n  #Nombre d'actions maximal lors de l'optimisation de la politique\n",
    "max_step_comparison = 1  #Nombre d'actions maximal lors de la comparaison de trajectoires\n",
    "max_step_evalue = 100  #Nombre d'actions maximal lors de l'évaluation de la performance\n",
    "\n",
    "n_repet_evalue = 1000 #Nombre de simulations pour obtenir la performance"
   ]
  },
  {
   "cell_type": "code",
   "execution_count": 15,
   "id": "590c7186",
   "metadata": {},
   "outputs": [],
   "source": [
    "score_dnn = []\n",
    "score_classic = []\n"
   ]
  },
  {
   "cell_type": "code",
   "execution_count": null,
   "id": "842597a2",
   "metadata": {},
   "outputs": [
    {
     "data": {
      "image/png": "[encoded data removed]",
      "text/plain": [
       "<Figure size 432x288 with 2 Axes>"
      ]
     },
     "metadata": {
      "needs_background": "light"
     },
     "output_type": "display_data"
    },
    {
     "name": "stdout",
     "output_type": "stream",
     "text": [
      "Iteration 0\n"
     ]
    },
    {
     "data": {
      "text/html": [
       "<div style=\"display:none\">\n",
       "                <audio onended=\"this.parentNode.removeChild(this)\"  controls=\"controls\" autoplay=\"autoplay\">\n",
       "                    <source src=\"data:audio/mpeg;base64,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\" type=\"audio/mpeg\" />\n",
       "                    Your browser does not support the audio element.\n",
       "                </audio>\n",
       "              </div>"
      ],
      "text/plain": [
       "<ringbell.utils.invisible_audio.InvisibleAudio object>"
      ]
     },
     "metadata": {},
     "output_type": "display_data"
    },
    {
     "name": "stdout",
     "output_type": "stream",
     "text": [
      "first trajectory :\n"
     ]
    },
    {
     "data": {
      "image/png": "[encoded data removed]",
      "text/plain": [
       "<IPython.core.display.Image object>"
      ]
     },
     "metadata": {},
     "output_type": "display_data"
    },
    {
     "name": "stdout",
     "output_type": "stream",
     "text": [
      "second trajectory :\n"
     ]
    },
    {
     "data": {
      "image/png": "[encoded data removed]",
      "text/plain": [
       "<IPython.core.display.Image object>"
      ]
     },
     "metadata": {},
     "output_type": "display_data"
    },
    {
     "name": "stdout",
     "output_type": "stream",
     "text": [
      "which one do you prefer ? (1 or 2)\n",
      "If you consider that both segments are equally preferable, type 3.\n",
      "If you consider that the segments are not comparable, type 0.\n",
      "Please type 0, 1, 2 or 3 : 3\n",
      "first trajectory :\n"
     ]
    },
    {
     "data": {
      "image/png": "[encoded data removed]",
      "text/plain": [
       "<IPython.core.display.Image object>"
      ]
     },
     "metadata": {},
     "output_type": "display_data"
    },
    {
     "name": "stdout",
     "output_type": "stream",
     "text": [
      "second trajectory :\n"
     ]
    },
    {
     "data": {
      "image/png": "[encoded data removed]",
      "text/plain": [
       "<IPython.core.display.Image object>"
      ]
     },
     "metadata": {},
     "output_type": "display_data"
    },
    {
     "name": "stdout",
     "output_type": "stream",
     "text": [
      "which one do you prefer ? (1 or 2)\n",
      "If you consider that both segments are equally preferable, type 3.\n",
      "If you consider that the segments are not comparable, type 0.\n",
      "Please type 0, 1, 2 or 3 : 1\n",
      "first trajectory :\n"
     ]
    },
    {
     "data": {
      "image/png": "[encoded data removed]",
      "text/plain": [
       "<IPython.core.display.Image object>"
      ]
     },
     "metadata": {},
     "output_type": "display_data"
    },
    {
     "name": "stdout",
     "output_type": "stream",
     "text": [
      "second trajectory :\n"
     ]
    },
    {
     "data": {
      "image/png": "[encoded data removed]",
      "text/plain": [
       "<IPython.core.display.Image object>"
      ]
     },
     "metadata": {},
     "output_type": "display_data"
    },
    {
     "name": "stdout",
     "output_type": "stream",
     "text": [
      "which one do you prefer ? (1 or 2)\n",
      "If you consider that both segments are equally preferable, type 3.\n",
      "If you consider that the segments are not comparable, type 0.\n",
      "Please type 0, 1, 2 or 3 : 1\n",
      "first trajectory :\n"
     ]
    },
    {
     "data": {
      "image/png": "[encoded data removed]",
      "text/plain": [
       "<IPython.core.display.Image object>"
      ]
     },
     "metadata": {},
     "output_type": "display_data"
    },
    {
     "name": "stdout",
     "output_type": "stream",
     "text": [
      "second trajectory :\n"
     ]
    },
    {
     "data": {
      "image/png": "[encoded data removed]",
      "text/plain": [
       "<IPython.core.display.Image object>"
      ]
     },
     "metadata": {},
     "output_type": "display_data"
    },
    {
     "name": "stdout",
     "output_type": "stream",
     "text": [
      "which one do you prefer ? (1 or 2)\n",
      "If you consider that both segments are equally preferable, type 3.\n",
      "If you consider that the segments are not comparable, type 0.\n",
      "Please type 0, 1, 2 or 3 : 3\n",
      "first trajectory :\n"
     ]
    },
    {
     "data": {
      "image/png": "[encoded data removed]",
      "text/plain": [
       "<IPython.core.display.Image object>"
      ]
     },
     "metadata": {},
     "output_type": "display_data"
    },
    {
     "name": "stdout",
     "output_type": "stream",
     "text": [
      "second trajectory :\n"
     ]
    },
    {
     "data": {
      "image/png": "[encoded data removed]",
      "text/plain": [
       "<IPython.core.display.Image object>"
      ]
     },
     "metadata": {},
     "output_type": "display_data"
    },
    {
     "name": "stdout",
     "output_type": "stream",
     "text": [
      "which one do you prefer ? (1 or 2)\n",
      "If you consider that both segments are equally preferable, type 3.\n",
      "If you consider that the segments are not comparable, type 0.\n",
      "Please type 0, 1, 2 or 3 : 1\n",
      "score actuel:  18.059\n",
      "Iteration 1\n"
     ]
    },
    {
     "data": {
      "text/html": [
       "<div style=\"display:none\">\n",
       "                <audio onended=\"this.parentNode.removeChild(this)\"  controls=\"controls\" autoplay=\"autoplay\">\n",
       "                    <source src=\"data:audio/mpeg;base64,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\" type=\"audio/mpeg\" />\n",
       "                    Your browser does not support the audio element.\n",
       "                </audio>\n",
       "              </div>"
      ],
      "text/plain": [
       "<ringbell.utils.invisible_audio.InvisibleAudio object>"
      ]
     },
     "metadata": {},
     "output_type": "display_data"
    },
    {
     "name": "stdout",
     "output_type": "stream",
     "text": [
      "first trajectory :\n"
     ]
    },
    {
     "data": {
      "image/png": "[encoded data removed]",
      "text/plain": [
       "<IPython.core.display.Image object>"
      ]
     },
     "metadata": {},
     "output_type": "display_data"
    },
    {
     "name": "stdout",
     "output_type": "stream",
     "text": [
      "second trajectory :\n"
     ]
    },
    {
     "data": {
      "image/png": "[encoded data removed]",
      "text/plain": [
       "<IPython.core.display.Image object>"
      ]
     },
     "metadata": {},
     "output_type": "display_data"
    },
    {
     "name": "stdout",
     "output_type": "stream",
     "text": [
      "which one do you prefer ? (1 or 2)\n",
      "If you consider that both segments are equally preferable, type 3.\n",
      "If you consider that the segments are not comparable, type 0.\n"
     ]
    }
   ],
   "source": [
    "rewarder.plot(n)\n",
    "for i in range(n_iters):\n",
    "    print(\"Iteration {}\".format(i))\n",
    "    \n",
    "    a()   #Un bruit pour attirer l'attention de l'humain pour faire ses comparaisons\n",
    "    #maze.plot(agent = agent)\n",
    "    lst_prefs = make_comparisons(env,agent,rewarder,n_comparisons,max_step_comparison)\n",
    "    update_rewarder(rewarder,lst_prefs)\n",
    "    #rewarder.plot(n)\n",
    "    update_policy(env,agent,rewarder,n_iters_policy,max_step_policy,plot = False)\n",
    "    \n",
    "    #lst_prefs = make_comparisons(env,agent,rewarder,n_comparisons,max_step_comparison)\n",
    "    #update_rewarder(rewarder,lst_prefs)\n",
    "    \n",
    "    score_dnn.append(evalue_agent(maze,agent,max_step_evalue,n_repet_evalue))\n",
    "    print(\"score actuel: \",score_dnn[-1])"
   ]
  },
  {
   "cell_type": "code",
   "execution_count": null,
   "id": "0fa056c2",
   "metadata": {},
   "outputs": [],
   "source": [
    "for i in range(n_iters):\n",
    "    print(\"Iteration {}\".format(i))\n",
    "    update_policy(env,agent2,rewarder2,n_iters_policy,max_step_policy,plot = False)\n",
    "    score_classic.append(evalue_agent(maze,agent2,max_step_evalue,n_repet_evalue))"
   ]
  },
  {
   "cell_type": "code",
   "execution_count": null,
   "id": "c5f4762c",
   "metadata": {},
   "outputs": [],
   "source": [
    "#Score pour un agent choisisant chaque direction au hasard\n",
    "score_random = evalue_agent(maze,lambda s: (random.randint(0,4),np.array([[0.25]*4])),max_step_evalue,n_repet_evalue*10)\n",
    "\n",
    "#Score pour un agent faisant les choix optimaux, determiné de visu selon le labyrinth\n",
    "score_optimal = 2.25"
   ]
  },
  {
   "cell_type": "code",
   "execution_count": null,
   "id": "ff561a40",
   "metadata": {},
   "outputs": [],
   "source": [
    "plt.plot(score_dnn)\n",
    "plt.plot(score_classic,color = \"yellow\")\n",
    "plt.axhline(score_random,color = 'r')\n",
    "plt.axhline(score_optimal,color = \"b\")\n",
    "plt.legend([\"Agent avec retour humain\",\"Agent avec fonction de récompense\",\"Agent aléatoire\",\"Agent optimal\"])"
   ]
  },
  {
   "cell_type": "code",
   "execution_count": null,
   "id": "2d777aca",
   "metadata": {},
   "outputs": [],
   "source": [
    "maze.plot(agent = agent2)"
   ]
  },
  {
   "cell_type": "code",
   "execution_count": null,
   "id": "b9a9b577",
   "metadata": {},
   "outputs": [],
   "source": [
    "maze.plot(agent = agent)"
   ]
  },
  {
   "cell_type": "code",
   "execution_count": null,
   "id": "38458477",
   "metadata": {},
   "outputs": [],
   "source": [
    "make_gif(one_trajectory(env,agent,rewarder,max_step = 10)[0],path = \"trajectoire_sans_murs_retour_humain\")\n",
    "make_gif(one_trajectory(env,agent2,rewarder,max_step = 10)[0],path = \"trajectoire_sans_murs_fonction_recompense_deterministe\")\n",
    "make_gif(one_trajectory(env,lambda s: (random.randint(0,4),np.array([[0.25]*4])),rewarder,max_step = 10)[0],path = \"trajectoire_sans_murs_aleatoire\")"
   ]
  }
 ],
 "metadata": {
  "kernelspec": {
   "display_name": "Python 3",
   "language": "python",
   "name": "python3"
  },
  "language_info": {
   "codemirror_mode": {
    "name": "ipython",
    "version": 3
   },
   "file_extension": ".py",
   "mimetype": "text/x-python",
   "name": "python",
   "nbconvert_exporter": "python",
   "pygments_lexer": "ipython3",
   "version": "3.7.11"
  }
 },
 "nbformat": 4,
 "nbformat_minor": 5
}
